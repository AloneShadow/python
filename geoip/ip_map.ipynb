{
 "cells": [
  {
   "cell_type": "code",
   "execution_count": 32,
   "metadata": {
    "collapsed": false,
    "scrolled": false
   },
   "outputs": [],
   "source": [
    "-\n",
    "#for country in countries:\n",
    "#    print (gmap.from_geocode(country)).center\n",
    "\n",
    "m = gmaps.Map()\n",
    "for country in countries2:\n",
    "    center = [(gmap.from_geocode(country)).center]\n",
    "    #time.sleep(10)\n",
    "    try:\n",
    "        m.add_layer(gmaps.symbol_layer(center, hover_text=country, fill_color=\"green\", stroke_color=\"red\", scale=15))\n",
    "    except:\n",
    "        x1 = round(center[0][0], 5)\n",
    "        x2 = round(center[0][1], 5)\n",
    "        center = [(x1, x2)]\n",
    "        m.add_layer(gmaps.symbol_layer(center, hover_text=country, fill_color=\"green\", stroke_color=\"red\", scale=15))\n",
    "m"
   ]
  },
  {
   "cell_type": "code",
   "execution_count": null,
   "metadata": {
    "collapsed": true
   },
   "outputs": [],
   "source": []
  }
 ],
 "metadata": {
  "kernelspec": {
   "display_name": "Python 2",
   "language": "python",
   "name": "python2"
  },
  "language_info": {
   "codemirror_mode": {
    "name": "ipython",
    "version": 2
   },
   "file_extension": ".py",
   "mimetype": "text/x-python",
   "name": "python",
   "nbconvert_exporter": "python",
   "pygments_lexer": "ipython2",
   "version": "2.7.9"
  },
  "widgets": {
   "state": {
    "1f4867dcaabc4a16bbb10077572da796": {
     "views": [
      {
       "cell_index": 0
      }
     ]
    }
   },
   "version": "1.2.0"
  }
 },
 "nbformat": 4,
 "nbformat_minor": 1
}
